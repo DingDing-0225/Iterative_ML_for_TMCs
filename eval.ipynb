{
 "cells": [
  {
   "cell_type": "code",
   "execution_count": 11,
   "id": "3762fca5",
   "metadata": {},
   "outputs": [],
   "source": [
    "# 交叉验证\n",
    "from sklearn.model_selection import cross_val_score\n",
    "\n",
    "def get_cross_val_score(model, data_x, data_y, cv=5, scoring=\"neg_mean_squared_error\"):\n",
    "    return cross_val_score(model, data_x, data_y, cv=cv, scoring=scoring)\n"
   ]
  },
  {
   "cell_type": "code",
   "execution_count": null,
   "id": "9ecb197a",
   "metadata": {},
   "outputs": [],
   "source": []
  }
 ],
 "metadata": {
  "kernelspec": {
   "display_name": "Python 3",
   "language": "python",
   "name": "python3"
  },
  "language_info": {
   "codemirror_mode": {
    "name": "ipython",
    "version": 3
   },
   "file_extension": ".py",
   "mimetype": "text/x-python",
   "name": "python",
   "nbconvert_exporter": "python",
   "pygments_lexer": "ipython3",
   "version": "3.6.13"
  }
 },
 "nbformat": 4,
 "nbformat_minor": 5
}
