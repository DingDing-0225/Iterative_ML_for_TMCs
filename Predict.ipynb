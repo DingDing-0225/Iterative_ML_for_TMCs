{
 "cells": [
  {
   "cell_type": "markdown",
   "id": "07d6c557",
   "metadata": {},
   "source": [
    "#"
   ]
  },
  {
   "cell_type": "code",
   "execution_count": 1,
   "id": "0ae103b2",
   "metadata": {},
   "outputs": [],
   "source": [
    "import pandas as pd\n",
    "import numpy as np\n",
    "import pickle\n",
    "from sklearn.ensemble import RandomForestRegressor"
   ]
  },
  {
   "cell_type": "code",
   "execution_count": 2,
   "id": "17107df2",
   "metadata": {},
   "outputs": [],
   "source": [
    "# tmcs = pd.read_excel('data/0.xlsx', sheet_name='TMCs', usecols=['compounds','CurrentDensity','overpotential']).loc[:49, :]\n",
    "new_tmcs = pd.read_csv('new_TMCs_0815.csv')['compound']\n",
    "cols_tm = ['element','AN','AW','CR','AR','VR','AV','FIE','SIE','EA','EN','Nd','Nv','D','EC','TC']\n",
    "tm = pd.read_excel('data/0.xlsx', sheet_name='TM_descriptors', usecols=cols_tm).fillna(0,inplace = False).replace('/', 0, inplace=False)\n",
    "cols_c = ['element','AN','AW','CR','AR','VR','AV','FIE','SIE','EA','EN','Np','Nv','D']\n",
    "c =  pd.read_excel('data/0.xlsx', sheet_name='C_descriptors', usecols=cols_c).fillna(0,inplace = False)"
   ]
  },
  {
   "cell_type": "code",
   "execution_count": 3,
   "id": "90f6223e",
   "metadata": {},
   "outputs": [],
   "source": [
    "# 拆分化合物\n",
    "import re\n",
    "import json\n",
    "\n",
    "def parse_compound(compound):\n",
    "    matches = re.findall(r'([A-Z][a-z]*)(\\d*\\.*\\d*)', compound)\n",
    "    result = {}\n",
    "    for match in matches:\n",
    "        element, count = match\n",
    "        count = float(count) if count else 1.0  # 如果没有数字，默认为1.0\n",
    "        result[element] = count\n",
    "    \n",
    "    return result\n",
    "\n",
    "def get_res(compound_name):\n",
    "    parsed_result = parse_compound(compound_name)\n",
    "    return parsed_result"
   ]
  },
  {
   "cell_type": "code",
   "execution_count": 4,
   "id": "e2d52862",
   "metadata": {},
   "outputs": [],
   "source": [
    "train_data = []\n",
    "for index, compound in enumerate(new_tmcs.values):\n",
    "    compound_feat = [compound]\n",
    "    compound = get_res(compound)\n",
    "    keys = list(compound.keys())\n",
    "    val = list(compound.values())\n",
    "    if len(keys) > 2:\n",
    "        A_key, A_index = keys[0], val[0]\n",
    "        B_key, B_index = keys[1], val[1]\n",
    "        A_feat = tm[tm['element']==A_key].values.flatten()[1:] * float(A_index)\n",
    "        B_feat = tm[tm['element']==B_key].values.flatten()[1:] * float(B_index)\n",
    "        C_feat = c[c['element']==keys[2]].values.flatten()[1:] * float(val[2])\n",
    "        AB_feat = np.array([a + b for a, b in zip(A_feat, B_feat)])\n",
    "        compound_feat += list(AB_feat) + list(C_feat) + list([500])\n",
    "    else:\n",
    "        AB_key = keys[0]\n",
    "        AB_index = val[0]\n",
    "        AB_feat = tm[tm['element']==AB_key].values.flatten()[1:] * float(AB_index)\n",
    "        C_feat = c[c['element']==keys[1]].values.flatten()[1:] * float(val[1])\n",
    "        compound_feat += list(AB_feat) + list(C_feat) + list([500])\n",
    "    train_data.append(compound_feat)"
   ]
  },
  {
   "cell_type": "code",
   "execution_count": 6,
   "id": "23f41bfe",
   "metadata": {},
   "outputs": [
    {
     "data": {
      "text/plain": [
       "(15012, 29)"
      ]
     },
     "execution_count": 6,
     "metadata": {},
     "output_type": "execute_result"
    }
   ],
   "source": [
    "predict_data = np.array(train_data)[:, 1:]\n",
    "predict_data.shape"
   ]
  },
  {
   "cell_type": "code",
   "execution_count": 7,
   "id": "e9f53cd1",
   "metadata": {},
   "outputs": [
    {
     "name": "stdout",
     "output_type": "stream",
     "text": [
      "[[2.1000000e+01 4.4955900e+01 1.7000000e+00 ... 6.0000000e+00\n",
      "  1.4290000e-03 5.0000000e+02]\n",
      " [2.1000000e+01 4.4955900e+01 1.7000000e+00 ... 1.2000000e+01\n",
      "  2.8580000e-03 5.0000000e+02]\n",
      " [2.1000000e+01 4.4955900e+01 1.7000000e+00 ... 1.8000000e+01\n",
      "  4.2870000e-03 5.0000000e+02]\n",
      " ...\n",
      " [5.2500000e+01 1.2640675e+02 1.3400000e+00 ... 1.2000000e+01\n",
      "  3.9200000e+00 5.0000000e+02]\n",
      " [5.3000000e+01 1.2794985e+02 1.3100000e+00 ... 1.2000000e+01\n",
      "  3.9200000e+00 5.0000000e+02]\n",
      " [5.3500000e+01 1.2783325e+02 1.3000000e+00 ... 1.2000000e+01\n",
      "  3.9200000e+00 5.0000000e+02]]\n"
     ]
    }
   ],
   "source": [
    "print(predict_data.astype(float))"
   ]
  },
  {
   "cell_type": "code",
   "execution_count": 8,
   "id": "6817b76d",
   "metadata": {},
   "outputs": [],
   "source": [
    "# regressor  =RandomForestRegressor(n_estimators=100, random_state=21)\n",
    "from xgboost import XGBRegressor\n",
    "model=XGBRegressor()\n",
    "with open('model/XGBoost_tuning_5.pkl', 'rb') as f:\n",
    "    model = pickle.load(f) \n",
    "y_pred = model.predict(predict_data.astype(float))"
   ]
  },
  {
   "cell_type": "code",
   "execution_count": 7,
   "id": "d7538710",
   "metadata": {},
   "outputs": [],
   "source": [
    "# regressor  =RandomForestRegressor(n_estimators=100, random_state=21)\n",
    "with open('model/rf_tuning_4.pkl', 'rb') as f:\n",
    "    model = pickle.load(f)\n",
    "\n",
    "y_pred = model.predict(predict_data)"
   ]
  },
  {
   "cell_type": "code",
   "execution_count": 9,
   "id": "2cc4a12f",
   "metadata": {},
   "outputs": [],
   "source": [
    "index = np.array(train_data)[:,:1]\n",
    "y_pred = np.array(y_pred).reshape(-1, 1)\n",
    "result = np.concatenate((index, y_pred), axis=1)\n",
    "sorted_indices = np.argsort(result[:, 1])\n",
    "sorted_compound = result[sorted_indices]\n",
    "col = ['compound', 'overpotential']\n",
    "df_sorted_compound = pd.DataFrame(sorted_compound, columns=col)\n",
    "import os\n",
    "if not os.path.exists('predict/'):\n",
    "    os.makedirs('predict/')\n",
    "df_sorted_compound.to_csv('predict/predict_500_XGB_0815.csv', index=False)"
   ]
  },
  {
   "cell_type": "code",
   "execution_count": null,
   "id": "f1947fa2",
   "metadata": {},
   "outputs": [],
   "source": []
  }
 ],
 "metadata": {
  "kernelspec": {
   "display_name": "Python 3",
   "language": "python",
   "name": "python3"
  },
  "language_info": {
   "codemirror_mode": {
    "name": "ipython",
    "version": 3
   },
   "file_extension": ".py",
   "mimetype": "text/x-python",
   "name": "python",
   "nbconvert_exporter": "python",
   "pygments_lexer": "ipython3",
   "version": "3.6.13"
  }
 },
 "nbformat": 4,
 "nbformat_minor": 5
}
